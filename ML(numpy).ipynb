{
 "cells": [
  {
   "cell_type": "code",
   "execution_count": 1,
   "id": "744482e7",
   "metadata": {},
   "outputs": [
    {
     "name": "stdout",
     "output_type": "stream",
     "text": [
      "Enter size of Array : 2\n",
      "Enter size of Array : 1\n",
      "Enter size of Array : 2\n",
      "[1 2]\n"
     ]
    }
   ],
   "source": [
    "import numpy as np \n",
    "\n",
    "li = []\n",
    "size = int(input(\"Enter size of Array : \"))\n",
    "\n",
    "for i in range(size):\n",
    "    val = int(input(\"Enter size of Array : \"))\n",
    "    li.append(val)\n",
    "arr = np.array(li)\n",
    "print(arr)"
   ]
  },
  {
   "cell_type": "markdown",
   "id": "29e467c4",
   "metadata": {},
   "source": [
    "# How to check shape and size of an array?\n"
   ]
  },
  {
   "cell_type": "code",
   "execution_count": 2,
   "id": "541866bb",
   "metadata": {},
   "outputs": [
    {
     "name": "stdout",
     "output_type": "stream",
     "text": [
      "2 (2,)\n"
     ]
    }
   ],
   "source": [
    "print(arr.size, arr.shape)"
   ]
  },
  {
   "cell_type": "code",
   "execution_count": 3,
   "id": "40ce93ab",
   "metadata": {},
   "outputs": [
    {
     "data": {
      "text/plain": [
       "array([[1, 2, 3],\n",
       "       [4, 5, 6],\n",
       "       [7, 8, 9]])"
      ]
     },
     "execution_count": 3,
     "metadata": {},
     "output_type": "execute_result"
    }
   ],
   "source": [
    "a = [[1,2,3], [4,5,6], [7,8,9]]\n",
    "b = np.array(a)\n",
    "b"
   ]
  },
  {
   "cell_type": "code",
   "execution_count": 4,
   "id": "2c5ba455",
   "metadata": {},
   "outputs": [
    {
     "name": "stdout",
     "output_type": "stream",
     "text": [
      "Total Shape =  (3, 3)\n",
      "Total Element =  9\n"
     ]
    }
   ],
   "source": [
    "print(\"Total Shape = \",b.shape)\n",
    "print(\"Total Element = \", b.size)"
   ]
  },
  {
   "cell_type": "code",
   "execution_count": 5,
   "id": "a69dcdef",
   "metadata": {},
   "outputs": [
    {
     "data": {
      "text/plain": [
       "'\\nr1 = [1,2,3]\\nr2 = [4,5,6]\\nr3 = [7,8,9]\\n\\nc1 = [1,4,7]\\nc2 = [2,5,8]\\nc3 = [3,6,9]\\n'"
      ]
     },
     "execution_count": 5,
     "metadata": {},
     "output_type": "execute_result"
    }
   ],
   "source": [
    "'''\n",
    "r1 = [1,2,3]\n",
    "r2 = [4,5,6]\n",
    "r3 = [7,8,9]\n",
    "\n",
    "c1 = [1,4,7]\n",
    "c2 = [2,5,8]\n",
    "c3 = [3,6,9]\n",
    "'''"
   ]
  },
  {
   "cell_type": "code",
   "execution_count": 6,
   "id": "7aeffd56",
   "metadata": {},
   "outputs": [],
   "source": [
    "#Image ===> pixels ===> (0-255)px ===> 0px (complete black), 255px\n",
    "#convert ===> grayscale Image ===>\n",
    "# Image(Pixels) ===> Normalization(0-1) ===> 0px black, 1px white\n",
    "\n",
    "# 0, 1 ===> Neoron System\n",
    "\n",
    "#Matrix ===> rows, columns\n",
    "#Symmetric Matrix ===> n(rows) = n(colemns)\n",
    "#Asymmetric Matrix ===> n(rows) != n(columns)\n",
    "#Diagonal Elements = [(1,1), (2,2), (3,3)]\n"
   ]
  },
  {
   "cell_type": "markdown",
   "id": "f9183539",
   "metadata": {},
   "source": [
    "# (1). zeros ===> It will crate an array in which all the elements are zero."
   ]
  },
  {
   "cell_type": "code",
   "execution_count": 7,
   "id": "5073a89e",
   "metadata": {},
   "outputs": [
    {
     "data": {
      "text/plain": [
       "array([0., 0., 0., 0.])"
      ]
     },
     "execution_count": 7,
     "metadata": {},
     "output_type": "execute_result"
    }
   ],
   "source": [
    "a= np.zeros(4)\n",
    "a"
   ]
  },
  {
   "cell_type": "code",
   "execution_count": 8,
   "id": "48e8c01e",
   "metadata": {},
   "outputs": [
    {
     "data": {
      "text/plain": [
       "array([[0., 0., 0., 0.],\n",
       "       [0., 0., 0., 0.],\n",
       "       [0., 0., 0., 0.]])"
      ]
     },
     "execution_count": 8,
     "metadata": {},
     "output_type": "execute_result"
    }
   ],
   "source": [
    "a = np.zeros((3,4))\n",
    "a"
   ]
  },
  {
   "cell_type": "markdown",
   "id": "bc7bf326",
   "metadata": {},
   "source": [
    "# (2). ones() ===> It will crate an array in which all the elements are one."
   ]
  },
  {
   "cell_type": "code",
   "execution_count": 9,
   "id": "00782db7",
   "metadata": {},
   "outputs": [
    {
     "data": {
      "text/plain": [
       "array([1., 1., 1.])"
      ]
     },
     "execution_count": 9,
     "metadata": {},
     "output_type": "execute_result"
    }
   ],
   "source": [
    "a = np.ones(3)\n",
    "a"
   ]
  },
  {
   "cell_type": "code",
   "execution_count": 10,
   "id": "523c2585",
   "metadata": {},
   "outputs": [
    {
     "data": {
      "text/plain": [
       "array([[1., 1., 1.],\n",
       "       [1., 1., 1.]])"
      ]
     },
     "execution_count": 10,
     "metadata": {},
     "output_type": "execute_result"
    }
   ],
   "source": [
    "b = np.ones((2,3))\n",
    "b"
   ]
  },
  {
   "cell_type": "markdown",
   "id": "1565e827",
   "metadata": {},
   "source": [
    "# (3). eye() ===> This function will create an array with diagonal values as 1s and rest all are 0s"
   ]
  },
  {
   "cell_type": "code",
   "execution_count": 11,
   "id": "f7ee2bd9",
   "metadata": {},
   "outputs": [
    {
     "data": {
      "text/plain": [
       "array([[1., 0., 0., 0.],\n",
       "       [0., 1., 0., 0.],\n",
       "       [0., 0., 1., 0.]])"
      ]
     },
     "execution_count": 11,
     "metadata": {},
     "output_type": "execute_result"
    }
   ],
   "source": [
    "a = np.eye(3,4) #Asymmetric\n",
    "a"
   ]
  },
  {
   "cell_type": "code",
   "execution_count": 12,
   "id": "8047871e",
   "metadata": {},
   "outputs": [
    {
     "data": {
      "text/plain": [
       "array([[1., 0., 0., 0.],\n",
       "       [0., 1., 0., 0.],\n",
       "       [0., 0., 1., 0.],\n",
       "       [0., 0., 0., 1.]])"
      ]
     },
     "execution_count": 12,
     "metadata": {},
     "output_type": "execute_result"
    }
   ],
   "source": [
    "a = np.eye(4) #Symmetric  Matrix\n",
    "a"
   ]
  },
  {
   "cell_type": "markdown",
   "id": "e136d7c3",
   "metadata": {},
   "source": [
    "# (4). Diag ==> this function creates a two dimensional array with all the diagonal element as the given value and rest are zeros"
   ]
  },
  {
   "cell_type": "code",
   "execution_count": null,
   "id": "ffb4e8bf",
   "metadata": {},
   "outputs": [],
   "source": [
    "import numpy as np\n",
    "a = np.diag([1,4,8,9])\n",
    "a"
   ]
  },
  {
   "cell_type": "markdown",
   "id": "48dad298",
   "metadata": {},
   "source": [
    "# (5). randint ==> this function is used to generate a random number between a given range.\n",
    "\n",
    "syntax == randint(min_value, max_value, totalnumber)"
   ]
  },
  {
   "cell_type": "code",
   "execution_count": 150,
   "id": "726f3ead",
   "metadata": {},
   "outputs": [
    {
     "data": {
      "text/plain": [
       "array([4, 9, 9])"
      ]
     },
     "execution_count": 150,
     "metadata": {},
     "output_type": "execute_result"
    }
   ],
   "source": [
    "import numpy as np\n",
    "a = np.random.randint(1,10,3)\n",
    "a"
   ]
  },
  {
   "cell_type": "markdown",
   "id": "8728bb84",
   "metadata": {},
   "source": [
    "# (6). This fuinction is used to generate a random number between 0 to 1.\n",
    "\n",
    "Syntax  == rand(number of values)"
   ]
  },
  {
   "cell_type": "code",
   "execution_count": 152,
   "id": "9963d3f5",
   "metadata": {},
   "outputs": [
    {
     "data": {
      "text/plain": [
       "array([0.33280052, 0.04056838, 0.08697335, 0.53851381, 0.11420798])"
      ]
     },
     "execution_count": 152,
     "metadata": {},
     "output_type": "execute_result"
    }
   ],
   "source": [
    "import numpy as np\n",
    "a = np.random.rand(5)\n",
    "a"
   ]
  },
  {
   "cell_type": "markdown",
   "id": "abbb6526",
   "metadata": {},
   "source": [
    "# (7). randn() ==> This function is used to generate a random a number from -3 to 3. This may return postive or negative number as well.\n",
    "\n",
    "Syntax ==> random.randn(number of values)"
   ]
  },
  {
   "cell_type": "code",
   "execution_count": 153,
   "id": "2b4b4105",
   "metadata": {},
   "outputs": [
    {
     "data": {
      "text/plain": [
       "array([-1.5176228 ,  0.47710984, -0.04608321,  1.30848684, -0.62414256])"
      ]
     },
     "execution_count": 153,
     "metadata": {},
     "output_type": "execute_result"
    }
   ],
   "source": [
    "import numpy as np\n",
    "a = np.random.randn(5)\n",
    "a\n"
   ]
  },
  {
   "cell_type": "markdown",
   "id": "67eb9bdc",
   "metadata": {},
   "source": [
    "# Reshpaing data"
   ]
  },
  {
   "cell_type": "code",
   "execution_count": 156,
   "id": "9022d209",
   "metadata": {},
   "outputs": [
    {
     "data": {
      "text/plain": [
       "array([22, 26, 33, 48, 18, 32, 38, 44, 16, 47, 20, 29])"
      ]
     },
     "execution_count": 156,
     "metadata": {},
     "output_type": "execute_result"
    }
   ],
   "source": [
    "import numpy as np\n",
    "a =np.random.randint(0,50,12)\n",
    "a"
   ]
  },
  {
   "cell_type": "markdown",
   "id": "764c7c72",
   "metadata": {},
   "source": [
    "# n(rows)*n(columns) = n(total_elements)"
   ]
  },
  {
   "cell_type": "code",
   "execution_count": 157,
   "id": "d700403b",
   "metadata": {},
   "outputs": [
    {
     "data": {
      "text/plain": [
       "(12,)"
      ]
     },
     "execution_count": 157,
     "metadata": {},
     "output_type": "execute_result"
    }
   ],
   "source": [
    "a.shape"
   ]
  },
  {
   "cell_type": "code",
   "execution_count": 158,
   "id": "0bcf7b46",
   "metadata": {},
   "outputs": [
    {
     "data": {
      "text/plain": [
       "array([[22, 26, 33, 48, 18, 32],\n",
       "       [38, 44, 16, 47, 20, 29]])"
      ]
     },
     "execution_count": 158,
     "metadata": {},
     "output_type": "execute_result"
    }
   ],
   "source": [
    "a = a.reshape(2,6)\n",
    "a"
   ]
  },
  {
   "cell_type": "code",
   "execution_count": 159,
   "id": "1cc11f51",
   "metadata": {},
   "outputs": [
    {
     "data": {
      "text/plain": [
       "array([[22, 26, 33, 48],\n",
       "       [18, 32, 38, 44],\n",
       "       [16, 47, 20, 29]])"
      ]
     },
     "execution_count": 159,
     "metadata": {},
     "output_type": "execute_result"
    }
   ],
   "source": [
    "a = a.reshape(3,4)\n",
    "a"
   ]
  },
  {
   "cell_type": "code",
   "execution_count": 160,
   "id": "6f940bd7",
   "metadata": {},
   "outputs": [
    {
     "data": {
      "text/plain": [
       "array([[22, 26, 33],\n",
       "       [48, 18, 32],\n",
       "       [38, 44, 16],\n",
       "       [47, 20, 29]])"
      ]
     },
     "execution_count": 160,
     "metadata": {},
     "output_type": "execute_result"
    }
   ],
   "source": [
    "a = a.reshape(4,3)\n",
    "a"
   ]
  },
  {
   "cell_type": "code",
   "execution_count": 161,
   "id": "5703ebc9",
   "metadata": {},
   "outputs": [
    {
     "data": {
      "text/plain": [
       "array([[22, 26],\n",
       "       [33, 48],\n",
       "       [18, 32],\n",
       "       [38, 44],\n",
       "       [16, 47],\n",
       "       [20, 29]])"
      ]
     },
     "execution_count": 161,
     "metadata": {},
     "output_type": "execute_result"
    }
   ],
   "source": [
    "a = a.reshape(6,2)\n",
    "a"
   ]
  },
  {
   "cell_type": "code",
   "execution_count": 164,
   "id": "0e237dd2",
   "metadata": {},
   "outputs": [
    {
     "data": {
      "text/plain": [
       "array([[22],\n",
       "       [26],\n",
       "       [33],\n",
       "       [48],\n",
       "       [18],\n",
       "       [32],\n",
       "       [38],\n",
       "       [44],\n",
       "       [16],\n",
       "       [47],\n",
       "       [20],\n",
       "       [29]])"
      ]
     },
     "execution_count": 164,
     "metadata": {},
     "output_type": "execute_result"
    }
   ],
   "source": [
    "a = a.reshape(12,1)\n",
    "a"
   ]
  },
  {
   "cell_type": "markdown",
   "id": "3baffcd1",
   "metadata": {},
   "source": [
    "# Q : for 64 `"
   ]
  },
  {
   "cell_type": "code",
   "execution_count": 167,
   "id": "972cff1c",
   "metadata": {},
   "outputs": [
    {
     "data": {
      "text/plain": [
       "array([51, 39, 56, 30,  9, 12, 99, 28, 18, 97, 14, 86,  2, 39, 13,  8, 10,\n",
       "       56, 19, 10,  6, 64, 32, 20, 44, 88, 97, 29, 80, 21, 67, 84, 78, 45,\n",
       "       12, 81, 79, 21, 91, 30, 54, 65, 11, 64, 35, 88, 23, 26, 92, 80, 71,\n",
       "       86, 57, 64, 60, 80, 42, 73,  2, 24, 94, 42, 67, 48])"
      ]
     },
     "execution_count": 167,
     "metadata": {},
     "output_type": "execute_result"
    }
   ],
   "source": [
    "import numpy as np\n",
    "a =np.random.randint(0,100,64)\n",
    "a"
   ]
  },
  {
   "cell_type": "code",
   "execution_count": 168,
   "id": "60e6d564",
   "metadata": {},
   "outputs": [
    {
     "data": {
      "text/plain": [
       "array([[51, 39, 56, 30,  9, 12, 99, 28, 18, 97, 14, 86,  2, 39, 13,  8,\n",
       "        10, 56, 19, 10,  6, 64, 32, 20, 44, 88, 97, 29, 80, 21, 67, 84,\n",
       "        78, 45, 12, 81, 79, 21, 91, 30, 54, 65, 11, 64, 35, 88, 23, 26,\n",
       "        92, 80, 71, 86, 57, 64, 60, 80, 42, 73,  2, 24, 94, 42, 67, 48]])"
      ]
     },
     "execution_count": 168,
     "metadata": {},
     "output_type": "execute_result"
    }
   ],
   "source": [
    "a = a.reshape(1,64)\n",
    "a"
   ]
  },
  {
   "cell_type": "code",
   "execution_count": 169,
   "id": "9527f74d",
   "metadata": {},
   "outputs": [
    {
     "data": {
      "text/plain": [
       "array([[51, 39, 56, 30,  9, 12, 99, 28, 18, 97, 14, 86,  2, 39, 13,  8,\n",
       "        10, 56, 19, 10,  6, 64, 32, 20, 44, 88, 97, 29, 80, 21, 67, 84],\n",
       "       [78, 45, 12, 81, 79, 21, 91, 30, 54, 65, 11, 64, 35, 88, 23, 26,\n",
       "        92, 80, 71, 86, 57, 64, 60, 80, 42, 73,  2, 24, 94, 42, 67, 48]])"
      ]
     },
     "execution_count": 169,
     "metadata": {},
     "output_type": "execute_result"
    }
   ],
   "source": [
    "a = a.reshape(2,32)\n",
    "a"
   ]
  },
  {
   "cell_type": "code",
   "execution_count": 170,
   "id": "b27c6e9c",
   "metadata": {},
   "outputs": [
    {
     "data": {
      "text/plain": [
       "array([[51, 39, 56, 30,  9, 12, 99, 28, 18, 97, 14, 86,  2, 39, 13,  8],\n",
       "       [10, 56, 19, 10,  6, 64, 32, 20, 44, 88, 97, 29, 80, 21, 67, 84],\n",
       "       [78, 45, 12, 81, 79, 21, 91, 30, 54, 65, 11, 64, 35, 88, 23, 26],\n",
       "       [92, 80, 71, 86, 57, 64, 60, 80, 42, 73,  2, 24, 94, 42, 67, 48]])"
      ]
     },
     "execution_count": 170,
     "metadata": {},
     "output_type": "execute_result"
    }
   ],
   "source": [
    "a = a.reshape(4,16)\n",
    "a"
   ]
  },
  {
   "cell_type": "code",
   "execution_count": 171,
   "id": "3d94445c",
   "metadata": {},
   "outputs": [
    {
     "data": {
      "text/plain": [
       "array([[51, 39, 56, 30,  9, 12, 99, 28],\n",
       "       [18, 97, 14, 86,  2, 39, 13,  8],\n",
       "       [10, 56, 19, 10,  6, 64, 32, 20],\n",
       "       [44, 88, 97, 29, 80, 21, 67, 84],\n",
       "       [78, 45, 12, 81, 79, 21, 91, 30],\n",
       "       [54, 65, 11, 64, 35, 88, 23, 26],\n",
       "       [92, 80, 71, 86, 57, 64, 60, 80],\n",
       "       [42, 73,  2, 24, 94, 42, 67, 48]])"
      ]
     },
     "execution_count": 171,
     "metadata": {},
     "output_type": "execute_result"
    }
   ],
   "source": [
    "a = a.reshape(8,8)\n",
    "a"
   ]
  },
  {
   "cell_type": "code",
   "execution_count": 172,
   "id": "e30f079a",
   "metadata": {},
   "outputs": [
    {
     "data": {
      "text/plain": [
       "array([[51, 39, 56, 30],\n",
       "       [ 9, 12, 99, 28],\n",
       "       [18, 97, 14, 86],\n",
       "       [ 2, 39, 13,  8],\n",
       "       [10, 56, 19, 10],\n",
       "       [ 6, 64, 32, 20],\n",
       "       [44, 88, 97, 29],\n",
       "       [80, 21, 67, 84],\n",
       "       [78, 45, 12, 81],\n",
       "       [79, 21, 91, 30],\n",
       "       [54, 65, 11, 64],\n",
       "       [35, 88, 23, 26],\n",
       "       [92, 80, 71, 86],\n",
       "       [57, 64, 60, 80],\n",
       "       [42, 73,  2, 24],\n",
       "       [94, 42, 67, 48]])"
      ]
     },
     "execution_count": 172,
     "metadata": {},
     "output_type": "execute_result"
    }
   ],
   "source": [
    "a = a.reshape(16,4)\n",
    "a"
   ]
  },
  {
   "cell_type": "code",
   "execution_count": 173,
   "id": "fc0db878",
   "metadata": {},
   "outputs": [
    {
     "data": {
      "text/plain": [
       "array([[51, 39],\n",
       "       [56, 30],\n",
       "       [ 9, 12],\n",
       "       [99, 28],\n",
       "       [18, 97],\n",
       "       [14, 86],\n",
       "       [ 2, 39],\n",
       "       [13,  8],\n",
       "       [10, 56],\n",
       "       [19, 10],\n",
       "       [ 6, 64],\n",
       "       [32, 20],\n",
       "       [44, 88],\n",
       "       [97, 29],\n",
       "       [80, 21],\n",
       "       [67, 84],\n",
       "       [78, 45],\n",
       "       [12, 81],\n",
       "       [79, 21],\n",
       "       [91, 30],\n",
       "       [54, 65],\n",
       "       [11, 64],\n",
       "       [35, 88],\n",
       "       [23, 26],\n",
       "       [92, 80],\n",
       "       [71, 86],\n",
       "       [57, 64],\n",
       "       [60, 80],\n",
       "       [42, 73],\n",
       "       [ 2, 24],\n",
       "       [94, 42],\n",
       "       [67, 48]])"
      ]
     },
     "execution_count": 173,
     "metadata": {},
     "output_type": "execute_result"
    }
   ],
   "source": [
    "a = a.reshape(32,2)\n",
    "a"
   ]
  },
  {
   "cell_type": "code",
   "execution_count": 174,
   "id": "65899ea7",
   "metadata": {},
   "outputs": [
    {
     "data": {
      "text/plain": [
       "array([[51],\n",
       "       [39],\n",
       "       [56],\n",
       "       [30],\n",
       "       [ 9],\n",
       "       [12],\n",
       "       [99],\n",
       "       [28],\n",
       "       [18],\n",
       "       [97],\n",
       "       [14],\n",
       "       [86],\n",
       "       [ 2],\n",
       "       [39],\n",
       "       [13],\n",
       "       [ 8],\n",
       "       [10],\n",
       "       [56],\n",
       "       [19],\n",
       "       [10],\n",
       "       [ 6],\n",
       "       [64],\n",
       "       [32],\n",
       "       [20],\n",
       "       [44],\n",
       "       [88],\n",
       "       [97],\n",
       "       [29],\n",
       "       [80],\n",
       "       [21],\n",
       "       [67],\n",
       "       [84],\n",
       "       [78],\n",
       "       [45],\n",
       "       [12],\n",
       "       [81],\n",
       "       [79],\n",
       "       [21],\n",
       "       [91],\n",
       "       [30],\n",
       "       [54],\n",
       "       [65],\n",
       "       [11],\n",
       "       [64],\n",
       "       [35],\n",
       "       [88],\n",
       "       [23],\n",
       "       [26],\n",
       "       [92],\n",
       "       [80],\n",
       "       [71],\n",
       "       [86],\n",
       "       [57],\n",
       "       [64],\n",
       "       [60],\n",
       "       [80],\n",
       "       [42],\n",
       "       [73],\n",
       "       [ 2],\n",
       "       [24],\n",
       "       [94],\n",
       "       [42],\n",
       "       [67],\n",
       "       [48]])"
      ]
     },
     "execution_count": 174,
     "metadata": {},
     "output_type": "execute_result"
    }
   ],
   "source": [
    "a = a.reshape(64,1)\n",
    "a"
   ]
  },
  {
   "cell_type": "markdown",
   "id": "7c3c61b2",
   "metadata": {},
   "source": [
    "# Principle of -1"
   ]
  },
  {
   "cell_type": "code",
   "execution_count": 175,
   "id": "f27f95e9",
   "metadata": {},
   "outputs": [
    {
     "data": {
      "text/plain": [
       "array([[51, 39, 56, 30],\n",
       "       [ 9, 12, 99, 28],\n",
       "       [18, 97, 14, 86],\n",
       "       [ 2, 39, 13,  8],\n",
       "       [10, 56, 19, 10],\n",
       "       [ 6, 64, 32, 20],\n",
       "       [44, 88, 97, 29],\n",
       "       [80, 21, 67, 84],\n",
       "       [78, 45, 12, 81],\n",
       "       [79, 21, 91, 30],\n",
       "       [54, 65, 11, 64],\n",
       "       [35, 88, 23, 26],\n",
       "       [92, 80, 71, 86],\n",
       "       [57, 64, 60, 80],\n",
       "       [42, 73,  2, 24],\n",
       "       [94, 42, 67, 48]])"
      ]
     },
     "execution_count": 175,
     "metadata": {},
     "output_type": "execute_result"
    }
   ],
   "source": [
    "a.reshape(-1,4)"
   ]
  },
  {
   "cell_type": "markdown",
   "id": "1ad073d0",
   "metadata": {},
   "source": [
    "# seed function() ==> We know that randint function generates random numbers. Everytime we run the program, new set of random number is genrated. So, solve this problem we will use seed function.\n"
   ]
  },
  {
   "cell_type": "code",
   "execution_count": 219,
   "id": "05b4d9c0",
   "metadata": {},
   "outputs": [
    {
     "data": {
      "text/plain": [
       "array([38, 13, 73, 10, 76,  6, 80, 65, 17,  2])"
      ]
     },
     "execution_count": 219,
     "metadata": {},
     "output_type": "execute_result"
    }
   ],
   "source": [
    "import numpy as np\n",
    "a= np.random.randint(1,100,10)\n",
    "np.random.seed(1)\n",
    "a"
   ]
  },
  {
   "cell_type": "markdown",
   "id": "16fdf639",
   "metadata": {},
   "source": [
    "## View vs Copy ==> When we slice a sub-array from an array, It may be done by two ways.\n"
   ]
  },
  {
   "cell_type": "markdown",
   "id": "c540775f",
   "metadata": {},
   "source": [
    "## View"
   ]
  },
  {
   "cell_type": "code",
   "execution_count": 221,
   "id": "bd440635",
   "metadata": {},
   "outputs": [
    {
     "data": {
      "text/plain": [
       "array([12, 12, 53,  0,  0, 13,  4, 32])"
      ]
     },
     "execution_count": 221,
     "metadata": {},
     "output_type": "execute_result"
    }
   ],
   "source": [
    "import numpy as np\n",
    "a = np.array([12,12,53,23,24,13,4,32])\n",
    "b = a[3:5]\n",
    "b[:] = 0\n",
    "a"
   ]
  },
  {
   "cell_type": "markdown",
   "id": "3181dfed",
   "metadata": {},
   "source": [
    "## Copy"
   ]
  },
  {
   "cell_type": "code",
   "execution_count": 222,
   "id": "4cd9b470",
   "metadata": {},
   "outputs": [
    {
     "data": {
      "text/plain": [
       "array([12, 12, 53, 23, 24, 13,  4, 32])"
      ]
     },
     "execution_count": 222,
     "metadata": {},
     "output_type": "execute_result"
    }
   ],
   "source": [
    "a = np.array([12,12,53,23,24,13,4,32])\n",
    "b = a[3:5].copy()\n",
    "b[:] = 0\n",
    "a"
   ]
  },
  {
   "cell_type": "markdown",
   "id": "0ae458ee",
   "metadata": {},
   "source": [
    "## conditional selection"
   ]
  },
  {
   "cell_type": "code",
   "execution_count": 224,
   "id": "ea7f0ec9",
   "metadata": {},
   "outputs": [
    {
     "data": {
      "text/plain": [
       "array([ 1,  2,  3,  4,  5,  6,  7,  8,  9, 10, 11, 12, 13, 14, 15])"
      ]
     },
     "execution_count": 224,
     "metadata": {},
     "output_type": "execute_result"
    }
   ],
   "source": [
    "import numpy as np\n",
    "a = np.arange(1,16)\n",
    "a"
   ]
  },
  {
   "cell_type": "code",
   "execution_count": 225,
   "id": "57d52feb",
   "metadata": {},
   "outputs": [
    {
     "data": {
      "text/plain": [
       "array([False, False, False, False, False, False, False, False, False,\n",
       "       False,  True,  True,  True,  True,  True])"
      ]
     },
     "execution_count": 225,
     "metadata": {},
     "output_type": "execute_result"
    }
   ],
   "source": [
    "a>10"
   ]
  },
  {
   "cell_type": "code",
   "execution_count": 226,
   "id": "8751f716",
   "metadata": {},
   "outputs": [
    {
     "data": {
      "text/plain": [
       "array([ True,  True,  True,  True,  True,  True,  True,  True,  True,\n",
       "       False, False, False, False, False, False])"
      ]
     },
     "execution_count": 226,
     "metadata": {},
     "output_type": "execute_result"
    }
   ],
   "source": [
    "a<10"
   ]
  },
  {
   "cell_type": "code",
   "execution_count": 228,
   "id": "c8d741f2",
   "metadata": {},
   "outputs": [
    {
     "data": {
      "text/plain": [
       "array([11, 12, 13, 14, 15])"
      ]
     },
     "execution_count": 228,
     "metadata": {},
     "output_type": "execute_result"
    }
   ],
   "source": [
    "b = a>10\n",
    "a[b]"
   ]
  },
  {
   "cell_type": "code",
   "execution_count": 229,
   "id": "a0154a1c",
   "metadata": {},
   "outputs": [
    {
     "data": {
      "text/plain": [
       "array([ 2,  4,  6,  8, 10, 12, 14])"
      ]
     },
     "execution_count": 229,
     "metadata": {},
     "output_type": "execute_result"
    }
   ],
   "source": [
    "a[a%2==0]"
   ]
  },
  {
   "cell_type": "markdown",
   "id": "3ffe372c",
   "metadata": {},
   "source": [
    "## Operations on Array"
   ]
  },
  {
   "cell_type": "code",
   "execution_count": 230,
   "id": "213ee320",
   "metadata": {},
   "outputs": [
    {
     "data": {
      "text/plain": [
       "array([2, 4, 6, 8])"
      ]
     },
     "execution_count": 230,
     "metadata": {},
     "output_type": "execute_result"
    }
   ],
   "source": [
    "import numpy as np\n",
    "a = np.arange(1,5)\n",
    "a*2"
   ]
  },
  {
   "cell_type": "code",
   "execution_count": 231,
   "id": "a1eee18b",
   "metadata": {},
   "outputs": [
    {
     "data": {
      "text/plain": [
       "array([3, 4, 5, 6])"
      ]
     },
     "execution_count": 231,
     "metadata": {},
     "output_type": "execute_result"
    }
   ],
   "source": [
    "a+2"
   ]
  },
  {
   "cell_type": "code",
   "execution_count": 232,
   "id": "da99bc1d",
   "metadata": {},
   "outputs": [
    {
     "data": {
      "text/plain": [
       "array([ 1,  4,  9, 16])"
      ]
     },
     "execution_count": 232,
     "metadata": {},
     "output_type": "execute_result"
    }
   ],
   "source": [
    "a**2"
   ]
  },
  {
   "cell_type": "code",
   "execution_count": 234,
   "id": "a47b9c81",
   "metadata": {},
   "outputs": [
    {
     "data": {
      "text/plain": [
       "array([[1, 2],\n",
       "       [3, 4]])"
      ]
     },
     "execution_count": 234,
     "metadata": {},
     "output_type": "execute_result"
    }
   ],
   "source": [
    "a = np.array([1,2,3,4]).reshape(2,2)\n",
    "a"
   ]
  },
  {
   "cell_type": "code",
   "execution_count": 237,
   "id": "e88fac84",
   "metadata": {},
   "outputs": [
    {
     "data": {
      "text/plain": [
       "array([[5, 6],\n",
       "       [7, 8]])"
      ]
     },
     "execution_count": 237,
     "metadata": {},
     "output_type": "execute_result"
    }
   ],
   "source": [
    "b = np.array([5,6,7,8]).reshape(2,2)\n",
    "b"
   ]
  },
  {
   "cell_type": "code",
   "execution_count": 238,
   "id": "dc29555d",
   "metadata": {},
   "outputs": [
    {
     "data": {
      "text/plain": [
       "array([[ 6,  8],\n",
       "       [10, 12]])"
      ]
     },
     "execution_count": 238,
     "metadata": {},
     "output_type": "execute_result"
    }
   ],
   "source": [
    "a+b"
   ]
  },
  {
   "cell_type": "code",
   "execution_count": 239,
   "id": "281e2382",
   "metadata": {},
   "outputs": [
    {
     "data": {
      "text/plain": [
       "array([[4, 4],\n",
       "       [4, 4]])"
      ]
     },
     "execution_count": 239,
     "metadata": {},
     "output_type": "execute_result"
    }
   ],
   "source": [
    "b-a"
   ]
  },
  {
   "cell_type": "code",
   "execution_count": 241,
   "id": "0db74531",
   "metadata": {},
   "outputs": [
    {
     "data": {
      "text/plain": [
       "array([[5.        , 3.        ],\n",
       "       [2.33333333, 2.        ]])"
      ]
     },
     "execution_count": 241,
     "metadata": {},
     "output_type": "execute_result"
    }
   ],
   "source": [
    "b/a"
   ]
  },
  {
   "cell_type": "code",
   "execution_count": 243,
   "id": "de9ccf96",
   "metadata": {},
   "outputs": [
    {
     "data": {
      "text/plain": [
       "array([[ 5, 12],\n",
       "       [21, 32]])"
      ]
     },
     "execution_count": 243,
     "metadata": {},
     "output_type": "execute_result"
    }
   ],
   "source": [
    "b*a"
   ]
  },
  {
   "cell_type": "code",
   "execution_count": 240,
   "id": "ff397ed6",
   "metadata": {},
   "outputs": [
    {
     "data": {
      "text/plain": [
       "array([[19, 22],\n",
       "       [43, 50]])"
      ]
     },
     "execution_count": 240,
     "metadata": {},
     "output_type": "execute_result"
    }
   ],
   "source": [
    "a.dot(b)"
   ]
  },
  {
   "cell_type": "code",
   "execution_count": 244,
   "id": "a55fefe3",
   "metadata": {},
   "outputs": [
    {
     "data": {
      "text/plain": [
       "10"
      ]
     },
     "execution_count": 244,
     "metadata": {},
     "output_type": "execute_result"
    }
   ],
   "source": [
    "import numpy as np\n",
    "a = np.array([10,20,30,40,50])\n",
    "np.min(a)"
   ]
  },
  {
   "cell_type": "code",
   "execution_count": 246,
   "id": "41bbb6ff",
   "metadata": {},
   "outputs": [
    {
     "data": {
      "text/plain": [
       "50"
      ]
     },
     "execution_count": 246,
     "metadata": {},
     "output_type": "execute_result"
    }
   ],
   "source": [
    "np.max(a)"
   ]
  },
  {
   "cell_type": "code",
   "execution_count": 247,
   "id": "56cd4ba7",
   "metadata": {},
   "outputs": [
    {
     "data": {
      "text/plain": [
       "0"
      ]
     },
     "execution_count": 247,
     "metadata": {},
     "output_type": "execute_result"
    }
   ],
   "source": [
    "np.argmin(a)"
   ]
  },
  {
   "cell_type": "code",
   "execution_count": 248,
   "id": "78653ee1",
   "metadata": {},
   "outputs": [
    {
     "data": {
      "text/plain": [
       "4"
      ]
     },
     "execution_count": 248,
     "metadata": {},
     "output_type": "execute_result"
    }
   ],
   "source": [
    "np.argmax(a)"
   ]
  },
  {
   "cell_type": "code",
   "execution_count": 249,
   "id": "9832ced7",
   "metadata": {},
   "outputs": [
    {
     "data": {
      "text/plain": [
       "array([3.16227766, 4.47213595, 5.47722558, 6.32455532, 7.07106781])"
      ]
     },
     "execution_count": 249,
     "metadata": {},
     "output_type": "execute_result"
    }
   ],
   "source": [
    "np.sqrt(a)"
   ]
  },
  {
   "cell_type": "code",
   "execution_count": 250,
   "id": "7cbc8d22",
   "metadata": {},
   "outputs": [
    {
     "data": {
      "text/plain": [
       "array([-0.54402111,  0.91294525, -0.98803162,  0.74511316, -0.26237485])"
      ]
     },
     "execution_count": 250,
     "metadata": {},
     "output_type": "execute_result"
    }
   ],
   "source": [
    "np.sin(a)"
   ]
  },
  {
   "cell_type": "markdown",
   "id": "087077cf",
   "metadata": {},
   "source": [
    "## Linspace() ==> This function returns value between a given range and with a same gap between consecutive elements.\n"
   ]
  },
  {
   "cell_type": "code",
   "execution_count": 252,
   "id": "d72372b2",
   "metadata": {},
   "outputs": [
    {
     "data": {
      "text/plain": [
       "array([1.  , 1.25, 1.5 , 1.75, 2.  ])"
      ]
     },
     "execution_count": 252,
     "metadata": {},
     "output_type": "execute_result"
    }
   ],
   "source": [
    "import numpy as np\n",
    "a= np.linspace(1,2,5)\n",
    "a\n"
   ]
  },
  {
   "cell_type": "markdown",
   "id": "bca513af",
   "metadata": {},
   "source": [
    "## np.unique(arr,return_index = True, return_count = True)\n",
    "\n",
    "returns 3 array ==> 1.the array contain unique values. 2. The array with respective index values. 3. The array with counting of frequency of each element."
   ]
  },
  {
   "cell_type": "code",
   "execution_count": 254,
   "id": "9140155e",
   "metadata": {},
   "outputs": [
    {
     "data": {
      "text/plain": [
       "(array([10, 20, 30, 40, 50]),\n",
       " array([0, 1, 2, 3, 4], dtype=int64),\n",
       " array([0, 1, 2, 3, 4], dtype=int64))"
      ]
     },
     "execution_count": 254,
     "metadata": {},
     "output_type": "execute_result"
    }
   ],
   "source": [
    "a = np.array([10,20,30,40,50])\n",
    "np.unique(a,True,True)"
   ]
  },
  {
   "cell_type": "markdown",
   "id": "09a605ce",
   "metadata": {},
   "source": [
    "## Horizontal and verticle stacking"
   ]
  },
  {
   "cell_type": "code",
   "execution_count": 256,
   "id": "07dc7b53",
   "metadata": {},
   "outputs": [
    {
     "data": {
      "text/plain": [
       "array([1, 2, 3, 4])"
      ]
     },
     "execution_count": 256,
     "metadata": {},
     "output_type": "execute_result"
    }
   ],
   "source": [
    "a = np.array([1,2,3,4])\n",
    "b = np.array([5,6,7,8])\n",
    "a"
   ]
  },
  {
   "cell_type": "code",
   "execution_count": 257,
   "id": "81068ea4",
   "metadata": {},
   "outputs": [
    {
     "data": {
      "text/plain": [
       "array([5, 6, 7, 8])"
      ]
     },
     "execution_count": 257,
     "metadata": {},
     "output_type": "execute_result"
    }
   ],
   "source": [
    "b"
   ]
  },
  {
   "cell_type": "code",
   "execution_count": 258,
   "id": "4e2fe8f9",
   "metadata": {},
   "outputs": [
    {
     "data": {
      "text/plain": [
       "array([1, 2, 3, 4, 5, 6, 7, 8])"
      ]
     },
     "execution_count": 258,
     "metadata": {},
     "output_type": "execute_result"
    }
   ],
   "source": [
    "np.hstack((a,b))"
   ]
  },
  {
   "cell_type": "code",
   "execution_count": 259,
   "id": "e23a39b9",
   "metadata": {},
   "outputs": [
    {
     "data": {
      "text/plain": [
       "array([[1, 2, 3, 4],\n",
       "       [5, 6, 7, 8]])"
      ]
     },
     "execution_count": 259,
     "metadata": {},
     "output_type": "execute_result"
    }
   ],
   "source": [
    "np.vstack((a,b))"
   ]
  },
  {
   "cell_type": "code",
   "execution_count": null,
   "id": "55223d77",
   "metadata": {},
   "outputs": [],
   "source": []
  },
  {
   "cell_type": "code",
   "execution_count": null,
   "id": "f247e372",
   "metadata": {},
   "outputs": [],
   "source": []
  },
  {
   "cell_type": "code",
   "execution_count": null,
   "id": "2c5188af",
   "metadata": {},
   "outputs": [],
   "source": []
  },
  {
   "cell_type": "code",
   "execution_count": null,
   "id": "a14e1702",
   "metadata": {},
   "outputs": [],
   "source": []
  },
  {
   "cell_type": "code",
   "execution_count": null,
   "id": "5b9bb0a9",
   "metadata": {},
   "outputs": [],
   "source": []
  },
  {
   "cell_type": "code",
   "execution_count": null,
   "id": "a1d86907",
   "metadata": {},
   "outputs": [],
   "source": []
  },
  {
   "cell_type": "code",
   "execution_count": null,
   "id": "f2d2cddf",
   "metadata": {},
   "outputs": [],
   "source": []
  },
  {
   "cell_type": "code",
   "execution_count": null,
   "id": "a0d7dcdf",
   "metadata": {},
   "outputs": [],
   "source": []
  }
 ],
 "metadata": {
  "kernelspec": {
   "display_name": "Python 3 (ipykernel)",
   "language": "python",
   "name": "python3"
  },
  "language_info": {
   "codemirror_mode": {
    "name": "ipython",
    "version": 3
   },
   "file_extension": ".py",
   "mimetype": "text/x-python",
   "name": "python",
   "nbconvert_exporter": "python",
   "pygments_lexer": "ipython3",
   "version": "3.10.9"
  }
 },
 "nbformat": 4,
 "nbformat_minor": 5
}
