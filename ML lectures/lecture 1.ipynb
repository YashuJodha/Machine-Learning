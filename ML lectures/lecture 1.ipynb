{
 "cells": [
  {
   "cell_type": "code",
   "execution_count": 1,
   "id": "147f7d80-ed89-4b69-859f-b542ba13986b",
   "metadata": {},
   "outputs": [],
   "source": [
    "#introduction to NUMPY ===>\n",
    "#why numpy is better then list ?\n",
    "#1. same data type == array\n",
    "#2. memory consume ==> numpy less list more\n",
    "#3. computation power ==> numpy more list less\n",
    "#4. function ===> numpy high, list less"
   ]
  },
  {
   "cell_type": "code",
   "execution_count": 2,
   "id": "f3cf9942-9311-4d17-ba4c-47e900b1fc04",
   "metadata": {},
   "outputs": [],
   "source": [
    "import numpy as np"
   ]
  },
  {
   "cell_type": "code",
   "execution_count": 3,
   "id": "0180e1a4-d0d4-4d6c-9d12-b0c8410ebc9c",
   "metadata": {},
   "outputs": [
    {
     "data": {
      "text/plain": [
       "list"
      ]
     },
     "execution_count": 3,
     "metadata": {},
     "output_type": "execute_result"
    }
   ],
   "source": [
    "a=[1,2,34]\n",
    "type(a)"
   ]
  },
  {
   "cell_type": "code",
   "execution_count": 4,
   "id": "85dd79c8-207b-479e-b533-4a199e66c2a2",
   "metadata": {},
   "outputs": [
    {
     "data": {
      "text/plain": [
       "numpy.ndarray"
      ]
     },
     "execution_count": 4,
     "metadata": {},
     "output_type": "execute_result"
    }
   ],
   "source": [
    "b=np.array(a)\n",
    "type(b)"
   ]
  },
  {
   "cell_type": "code",
   "execution_count": 12,
   "id": "d2a82c67-7f05-4578-800e-5ad699fb5745",
   "metadata": {},
   "outputs": [
    {
     "name": "stdin",
     "output_type": "stream",
     "text": [
      "enter no of elemnts 5\n",
      "enter no 9\n",
      "enter no 8\n",
      "enter no 26\n",
      "enter no 5\n",
      "enter no 5\n"
     ]
    },
    {
     "name": "stdout",
     "output_type": "stream",
     "text": [
      "[ 9  8 26  5  5]\n"
     ]
    }
   ],
   "source": [
    "no=int(input(\"enter no of elemnts\"))\n",
    "mylist=[]\n",
    "for i in range(no):\n",
    "    val=int(input(\"enter no\"))\n",
    "    mylist.append(val)\n",
    "\n",
    "b=np.array(mylist)\n",
    "print(b)\n",
    "\n",
    "                  \n",
    "\n",
    "\n"
   ]
  },
  {
   "cell_type": "markdown",
   "id": "c2949d33-1de7-420a-ae38-05dbc4dc22b6",
   "metadata": {},
   "source": [
    "# how to check shape and size of array\n"
   ]
  },
  {
   "cell_type": "code",
   "execution_count": 13,
   "id": "12cf40b4-3277-4014-97a1-6788eeb31bdc",
   "metadata": {},
   "outputs": [],
   "source": [
    "#shape=n(rows), n(coloumn)\n",
    "#size=total_elemenst ===> n(rows)*n(coloumns)"
   ]
  },
  {
   "cell_type": "code",
   "execution_count": 15,
   "id": "7025a298-deb8-4d4c-82ea-62168a83cd06",
   "metadata": {},
   "outputs": [
    {
     "name": "stdout",
     "output_type": "stream",
     "text": [
      "total shape== (5,)\n",
      "total size== 5\n"
     ]
    }
   ],
   "source": [
    "print(\"total shape==\" , b.shape)\n",
    "print(\"total size==\", b.size)"
   ]
  },
  {
   "cell_type": "code",
   "execution_count": 17,
   "id": "2b4ea616-d020-4781-bae7-d5bfbc38f680",
   "metadata": {},
   "outputs": [
    {
     "name": "stdout",
     "output_type": "stream",
     "text": [
      "[[1 2 3]\n",
      " [2 3 4]]\n",
      "shape (2, 3)\n",
      "size 6\n"
     ]
    }
   ],
   "source": [
    "a=[[1,2,3],[2,3,4]]\n",
    "b=np.array(a)\n",
    "print(b)\n",
    "print(\"shape\", b.shape)\n",
    "print(\"size\",b.size)"
   ]
  },
  {
   "cell_type": "code",
   "execution_count": 18,
   "id": "c670a174-5b18-4dc9-8e3c-58d45dc7d76d",
   "metadata": {},
   "outputs": [
    {
     "name": "stdout",
     "output_type": "stream",
     "text": [
      "[[1 2 3]\n",
      " [3 4 5]\n",
      " [4 3 2]]\n",
      "(3, 3)\n",
      "9\n"
     ]
    }
   ],
   "source": [
    "a=[[1,2,3],[3,4,5],[4,3,2]]\n",
    "b=np.array(a)\n",
    "print(b)\n",
    "print(b.shape)\n",
    "print(b.size)"
   ]
  },
  {
   "cell_type": "code",
   "execution_count": 19,
   "id": "0cd705a0-bc5d-4606-a3c5-b5bc2e23e054",
   "metadata": {},
   "outputs": [],
   "source": [
    "#image ====> pixel ====> (0,250)px ====> 0px(black) , 255px(white)\n",
    "#convert ===> grayscale image===>\n",
    "#image (pixels)==> Normalization(0-1) ===> 0px==> black ,1px===> white \n",
    "\n",
    "#0,1====> neuron system\n",
    "#matrix===> rows and columns\n",
    "#symmetric matrix =  no of rows and column\n",
    "# asymmetric matrix = no of rows and column are not equal\n",
    "#diagonal matrix=diagonal elmensts only in matrix\n"
   ]
  },
  {
   "cell_type": "markdown",
   "id": "efff127d-d2ae-4596-94c1-60c18cf340f5",
   "metadata": {},
   "source": [
    "# 1) zeros() ===> it will create a array in which all elemensta are zero"
   ]
  },
  {
   "cell_type": "code",
   "execution_count": 20,
   "id": "eee6e3f6-769d-4937-9631-d24066f156f2",
   "metadata": {},
   "outputs": [
    {
     "data": {
      "text/plain": [
       "array([0., 0., 0., 0.])"
      ]
     },
     "execution_count": 20,
     "metadata": {},
     "output_type": "execute_result"
    }
   ],
   "source": [
    "a=np.zeros(4)\n",
    "a"
   ]
  },
  {
   "cell_type": "code",
   "execution_count": 21,
   "id": "6a908c6c-430b-4fef-bd7d-2b08f56071ce",
   "metadata": {},
   "outputs": [
    {
     "data": {
      "text/plain": [
       "array([[0., 0., 0., 0.],\n",
       "       [0., 0., 0., 0.],\n",
       "       [0., 0., 0., 0.]])"
      ]
     },
     "execution_count": 21,
     "metadata": {},
     "output_type": "execute_result"
    }
   ],
   "source": [
    "a=np.zeros((3,4))\n",
    "a"
   ]
  },
  {
   "cell_type": "markdown",
   "id": "492b9645-a94a-4a46-960b-2bb660ad2e61",
   "metadata": {},
   "source": [
    "# 2)  ones() ====> it will create a array in which all elements are one "
   ]
  },
  {
   "cell_type": "code",
   "execution_count": 23,
   "id": "67d74005-cd8b-45a6-8f3e-6bdadd32b381",
   "metadata": {},
   "outputs": [
    {
     "data": {
      "text/plain": [
       "array([1., 1., 1.])"
      ]
     },
     "execution_count": 23,
     "metadata": {},
     "output_type": "execute_result"
    }
   ],
   "source": [
    "a=np.ones(3)\n",
    "a"
   ]
  },
  {
   "cell_type": "code",
   "execution_count": 24,
   "id": "31a74067-c223-4bdb-af21-f79260c2554c",
   "metadata": {},
   "outputs": [
    {
     "data": {
      "text/plain": [
       "array([[1., 1., 1., 1.],\n",
       "       [1., 1., 1., 1.],\n",
       "       [1., 1., 1., 1.]])"
      ]
     },
     "execution_count": 24,
     "metadata": {},
     "output_type": "execute_result"
    }
   ],
   "source": [
    "b=np.ones((3,4))\n",
    "b"
   ]
  },
  {
   "cell_type": "markdown",
   "id": "ffc0539a-98dc-48cb-b841-b65ee6d87337",
   "metadata": {},
   "source": [
    "# 3) eye()==> this function will create an array in which diagonal elements are 1 and other are zero"
   ]
  },
  {
   "cell_type": "code",
   "execution_count": 29,
   "id": "e8bff636-713f-4f79-a317-b20011bce6bc",
   "metadata": {},
   "outputs": [
    {
     "data": {
      "text/plain": [
       "array([[1., 0., 0., 0.],\n",
       "       [0., 1., 0., 0.],\n",
       "       [0., 0., 1., 0.]])"
      ]
     },
     "execution_count": 29,
     "metadata": {},
     "output_type": "execute_result"
    }
   ],
   "source": [
    "a=np.eye(3,4) #asymmetric\n",
    "a"
   ]
  },
  {
   "cell_type": "code",
   "execution_count": 28,
   "id": "4e9c7b57-ff5d-475d-a252-796a89229c63",
   "metadata": {},
   "outputs": [
    {
     "data": {
      "text/plain": [
       "array([[1., 0., 0., 0.],\n",
       "       [0., 1., 0., 0.],\n",
       "       [0., 0., 1., 0.],\n",
       "       [0., 0., 0., 1.]])"
      ]
     },
     "execution_count": 28,
     "metadata": {},
     "output_type": "execute_result"
    }
   ],
   "source": [
    "a=np.eye(4)#symmetric \n",
    "a"
   ]
  },
  {
   "cell_type": "code",
   "execution_count": null,
   "id": "e29595fd-e45f-4c42-afac-abf814bd1fac",
   "metadata": {},
   "outputs": [],
   "source": []
  }
 ],
 "metadata": {
  "kernelspec": {
   "display_name": "Python 3 (ipykernel)",
   "language": "python",
   "name": "python3"
  },
  "language_info": {
   "codemirror_mode": {
    "name": "ipython",
    "version": 3
   },
   "file_extension": ".py",
   "mimetype": "text/x-python",
   "name": "python",
   "nbconvert_exporter": "python",
   "pygments_lexer": "ipython3",
   "version": "3.12.0"
  }
 },
 "nbformat": 4,
 "nbformat_minor": 5
}
