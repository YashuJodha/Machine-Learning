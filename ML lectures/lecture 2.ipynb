{
 "cells": [
  {
   "cell_type": "markdown",
   "id": "4fb99592-550b-4deb-9540-248afc1596a3",
   "metadata": {},
   "source": [
    "# 4.) diag ==> this fucnction  create a 2d array with all the diagonal elements as the given valuesa nd rest all zeors\n"
   ]
  },
  {
   "cell_type": "code",
   "execution_count": 1,
   "id": "d07fc858-5c30-4212-80c3-969654f482f5",
   "metadata": {},
   "outputs": [
    {
     "name": "stdout",
     "output_type": "stream",
     "text": [
      "[[1 0 0 0]\n",
      " [0 2 0 0]\n",
      " [0 0 3 0]\n",
      " [0 0 0 4]]\n"
     ]
    }
   ],
   "source": [
    "import numpy as np\n",
    "a=np.diag([1,2,3,4])\n",
    "print(a)"
   ]
  },
  {
   "cell_type": "markdown",
   "id": "7bb5b54e-b582-49d4-afcd-bccfa408e97b",
   "metadata": {},
   "source": [
    "# 5.) radint==> this function is used to generate a random no. between a given range"
   ]
  },
  {
   "cell_type": "markdown",
   "id": "619200c0-cb95-400e-96db-5daf6a9223b4",
   "metadata": {},
   "source": [
    "# syntax ==> randint(min_value, max_valu, total no)"
   ]
  },
  {
   "cell_type": "code",
   "execution_count": 11,
   "id": "23f08f6a-c3d3-492a-b483-e09ba61dc95a",
   "metadata": {},
   "outputs": [
    {
     "data": {
      "text/plain": [
       "array([868, 414,  19, 826, 995,  83, 635, 205, 695, 754, 351, 116, 905,\n",
       "       878, 302, 182, 400, 696, 368])"
      ]
     },
     "execution_count": 11,
     "metadata": {},
     "output_type": "execute_result"
    }
   ],
   "source": [
    "import numpy as np\n",
    "a=np.random.randint(1,1000,19)\n",
    "a"
   ]
  },
  {
   "cell_type": "markdown",
   "id": "ded70f75-7787-47c6-bc8c-bd64a6f93123",
   "metadata": {},
   "source": [
    "# 6.) rand() ===> this function is used to generate a random no between 0 to 1"
   ]
  },
  {
   "cell_type": "markdown",
   "id": "91053e74-929e-41c3-acff-0c20adc25eb5",
   "metadata": {},
   "source": [
    "# syntax ==> rand(no of values)\n"
   ]
  },
  {
   "cell_type": "code",
   "execution_count": 6,
   "id": "16952d89-8b71-437e-9758-dc3adbce5767",
   "metadata": {},
   "outputs": [
    {
     "data": {
      "text/plain": [
       "array([0.52492602, 0.70696836, 0.19038766, 0.30552767, 0.20272697,\n",
       "       0.05222519, 0.88181996, 0.22870932, 0.95200426, 0.00100797,\n",
       "       0.54266233, 0.21615646])"
      ]
     },
     "execution_count": 6,
     "metadata": {},
     "output_type": "execute_result"
    }
   ],
   "source": [
    "import numpy as np\n",
    "a=np.random.rand(12)\n",
    "a"
   ]
  },
  {
   "cell_type": "markdown",
   "id": "efd622a9-1544-4447-8d2c-fb01440ae931",
   "metadata": {},
   "source": [
    "# 7.) randn() ==> this function is used to generate a random no betwneen -3 to +3\n",
    "# syntax== random.randn(no of values)"
   ]
  },
  {
   "cell_type": "code",
   "execution_count": 10,
   "id": "6c2169b4-73c5-4fb9-acad-3c59515e961a",
   "metadata": {},
   "outputs": [
    {
     "data": {
      "text/plain": [
       "array([ 1.06917094, -0.96856285, -0.83163811, -0.54895761, -0.39166663])"
      ]
     },
     "execution_count": 10,
     "metadata": {},
     "output_type": "execute_result"
    }
   ],
   "source": [
    "import numpy as np\n",
    "a=np.random.randn(5)\n",
    "a\n"
   ]
  },
  {
   "cell_type": "code",
   "execution_count": 12,
   "id": "b7e72872-e7d6-420f-972d-136c9a2a5116",
   "metadata": {},
   "outputs": [],
   "source": [
    "# reshaping data"
   ]
  },
  {
   "cell_type": "code",
   "execution_count": 13,
   "id": "f21ecfa8-e407-4af8-ac5f-b72f314754ed",
   "metadata": {},
   "outputs": [
    {
     "data": {
      "text/plain": [
       "array([15,  4,  9, 22, 16, 15, 11, 23,  7,  5,  5,  6])"
      ]
     },
     "execution_count": 13,
     "metadata": {},
     "output_type": "execute_result"
    }
   ],
   "source": [
    "import numpy as np\n",
    "a=np.random.randint(1,24,12)\n",
    "a"
   ]
  },
  {
   "cell_type": "code",
   "execution_count": 15,
   "id": "78424b5a-1721-4fff-bb9e-d2e57cba3ca8",
   "metadata": {},
   "outputs": [
    {
     "data": {
      "text/plain": [
       "(12,)"
      ]
     },
     "execution_count": 15,
     "metadata": {},
     "output_type": "execute_result"
    }
   ],
   "source": [
    "a.shape"
   ]
  },
  {
   "cell_type": "code",
   "execution_count": 16,
   "id": "d0a5a268-00e5-4106-bc2a-cb1498c806ba",
   "metadata": {},
   "outputs": [],
   "source": [
    "# n(rows) *n(column)==> n(total elements)\n"
   ]
  },
  {
   "cell_type": "code",
   "execution_count": 17,
   "id": "84c5c34c-1b9f-4987-a76f-1c9dfa6a4e1a",
   "metadata": {},
   "outputs": [
    {
     "data": {
      "text/plain": [
       "array([[15,  4,  9, 22, 16, 15],\n",
       "       [11, 23,  7,  5,  5,  6]])"
      ]
     },
     "execution_count": 17,
     "metadata": {},
     "output_type": "execute_result"
    }
   ],
   "source": [
    "a=a.reshape(2,6)\n",
    "a"
   ]
  },
  {
   "cell_type": "code",
   "execution_count": 18,
   "id": "7c9923e3-6009-4bea-9d60-ae084d205aa8",
   "metadata": {},
   "outputs": [
    {
     "data": {
      "text/plain": [
       "array([60, 83,  7, 20,  9, 50, 67, 45, 88, 41, 12, 56, 53, 44, 78,  3, 59,\n",
       "       94, 50, 22, 78,  9, 44,  9, 88, 20, 62, 12, 21, 30, 92, 56,  9, 67,\n",
       "       64, 38, 75, 66, 53,  6, 61, 68, 61, 74,  5, 78, 35, 34, 55, 23,  9,\n",
       "       23, 44, 15, 39, 25, 18, 50, 18, 89, 72, 33, 18,  5])"
      ]
     },
     "execution_count": 18,
     "metadata": {},
     "output_type": "execute_result"
    }
   ],
   "source": [
    "import numpy as np\n",
    "a=np.random.randint(1,100,64)\n",
    "a\n"
   ]
  },
  {
   "cell_type": "code",
   "execution_count": 19,
   "id": "a1895c47-fd3e-45f8-8ba2-08bf9561729a",
   "metadata": {},
   "outputs": [
    {
     "data": {
      "text/plain": [
       "array([[60, 83,  7, 20,  9, 50, 67, 45, 88, 41, 12, 56, 53, 44, 78,  3,\n",
       "        59, 94, 50, 22, 78,  9, 44,  9, 88, 20, 62, 12, 21, 30, 92, 56],\n",
       "       [ 9, 67, 64, 38, 75, 66, 53,  6, 61, 68, 61, 74,  5, 78, 35, 34,\n",
       "        55, 23,  9, 23, 44, 15, 39, 25, 18, 50, 18, 89, 72, 33, 18,  5]])"
      ]
     },
     "execution_count": 19,
     "metadata": {},
     "output_type": "execute_result"
    }
   ],
   "source": [
    "a=a.reshape(2,32)\n",
    "a\n"
   ]
  },
  {
   "cell_type": "code",
   "execution_count": 21,
   "id": "7e53fa5a-3931-4ae9-92a3-b66554deac8c",
   "metadata": {},
   "outputs": [
    {
     "data": {
      "text/plain": [
       "array([[60, 83],\n",
       "       [ 7, 20],\n",
       "       [ 9, 50],\n",
       "       [67, 45],\n",
       "       [88, 41],\n",
       "       [12, 56],\n",
       "       [53, 44],\n",
       "       [78,  3],\n",
       "       [59, 94],\n",
       "       [50, 22],\n",
       "       [78,  9],\n",
       "       [44,  9],\n",
       "       [88, 20],\n",
       "       [62, 12],\n",
       "       [21, 30],\n",
       "       [92, 56],\n",
       "       [ 9, 67],\n",
       "       [64, 38],\n",
       "       [75, 66],\n",
       "       [53,  6],\n",
       "       [61, 68],\n",
       "       [61, 74],\n",
       "       [ 5, 78],\n",
       "       [35, 34],\n",
       "       [55, 23],\n",
       "       [ 9, 23],\n",
       "       [44, 15],\n",
       "       [39, 25],\n",
       "       [18, 50],\n",
       "       [18, 89],\n",
       "       [72, 33],\n",
       "       [18,  5]])"
      ]
     },
     "execution_count": 21,
     "metadata": {},
     "output_type": "execute_result"
    }
   ],
   "source": [
    "a=a.reshape(32,2)\n",
    "a"
   ]
  },
  {
   "cell_type": "code",
   "execution_count": 29,
   "id": "9ea25547-e9bb-4574-acc2-e177ddfcf57c",
   "metadata": {},
   "outputs": [
    {
     "data": {
      "text/plain": [
       "array([[60, 83,  7, 20,  9, 50, 67, 45, 88, 41, 12, 56, 53, 44, 78,  3],\n",
       "       [59, 94, 50, 22, 78,  9, 44,  9, 88, 20, 62, 12, 21, 30, 92, 56],\n",
       "       [ 9, 67, 64, 38, 75, 66, 53,  6, 61, 68, 61, 74,  5, 78, 35, 34],\n",
       "       [55, 23,  9, 23, 44, 15, 39, 25, 18, 50, 18, 89, 72, 33, 18,  5]])"
      ]
     },
     "execution_count": 29,
     "metadata": {},
     "output_type": "execute_result"
    }
   ],
   "source": [
    "a=a.reshape(4,16)\n",
    "a"
   ]
  },
  {
   "cell_type": "markdown",
   "id": "cb0789cd-9532-4e2f-b905-bc1232bae32b",
   "metadata": {},
   "source": [
    "# principal of -1"
   ]
  },
  {
   "cell_type": "code",
   "execution_count": 27,
   "id": "a3de6d78-d19d-4368-a2a3-b588915e1dd5",
   "metadata": {},
   "outputs": [],
   "source": [
    "# if no of rows and element are given then we can find no of column by putting -1 in palce of column and viceversa"
   ]
  },
  {
   "cell_type": "code",
   "execution_count": 31,
   "id": "037b4e9b-e66b-4af1-8f77-d5362af1fae4",
   "metadata": {},
   "outputs": [
    {
     "data": {
      "text/plain": [
       "array([[60, 83,  7, 20,  9, 50, 67, 45, 88, 41, 12, 56, 53, 44, 78,  3],\n",
       "       [59, 94, 50, 22, 78,  9, 44,  9, 88, 20, 62, 12, 21, 30, 92, 56],\n",
       "       [ 9, 67, 64, 38, 75, 66, 53,  6, 61, 68, 61, 74,  5, 78, 35, 34],\n",
       "       [55, 23,  9, 23, 44, 15, 39, 25, 18, 50, 18, 89, 72, 33, 18,  5]])"
      ]
     },
     "execution_count": 31,
     "metadata": {},
     "output_type": "execute_result"
    }
   ],
   "source": [
    "\n",
    "a=a.reshape(-1,16)\n",
    "a\n"
   ]
  },
  {
   "cell_type": "markdown",
   "id": "b65677ae-513a-4ddb-bd1e-00798cb90edf",
   "metadata": {},
   "source": [
    "# seed ()==> we know that ranint function generates random no everytime we run the program , new set of random no is generated . so , solvethis problem using sheed f unction`1"
   ]
  },
  {
   "cell_type": "code",
   "execution_count": 38,
   "id": "cf44ed1b-3e8b-4a4a-9f82-e5cb41be158d",
   "metadata": {},
   "outputs": [
    {
     "data": {
      "text/plain": [
       "array([29, 23,  2, 23, 41, 28])"
      ]
     },
     "execution_count": 38,
     "metadata": {},
     "output_type": "execute_result"
    }
   ],
   "source": [
    "import numpy as np\n",
    "np.random.seed(9) # any no can be passed no use of this no \n",
    "a=np.random.randint(1,50,6) # after using seed function when we refresh the nos will not update\n",
    "a"
   ]
  },
  {
   "cell_type": "markdown",
   "id": "4680dc81-dfec-4fb3-85cf-a36cc908d953",
   "metadata": {},
   "source": [
    "# view vs copy ==> when we slice a sub array from an array , it may be done by two ways"
   ]
  },
  {
   "cell_type": "code",
   "execution_count": 41,
   "id": "7c9e16f2-d023-4ed6-86ce-a23a3674d3f4",
   "metadata": {},
   "outputs": [
    {
     "data": {
      "text/plain": [
       "array([10, 20, 95,  0,  0,  0, 89, 65, 55])"
      ]
     },
     "execution_count": 41,
     "metadata": {},
     "output_type": "execute_result"
    }
   ],
   "source": [
    "# view\n",
    "import numpy as np\n",
    "a=np.array([10,20,95,54,78,55,89,65,55])\n",
    "b=a[3:6]\n",
    "b[:]=0\n",
    "a"
   ]
  },
  {
   "cell_type": "code",
   "execution_count": 48,
   "id": "fa60686c-5ef9-4efd-91e6-b9fa3b35ff7a",
   "metadata": {},
   "outputs": [
    {
     "name": "stdout",
     "output_type": "stream",
     "text": [
      "[10 20 95 54 78 55 89 65 55]\n",
      "[0 0 0]\n"
     ]
    }
   ],
   "source": [
    "#copy\n",
    "a=np.array([10,20,95,54,78,55,89,65,55])\n",
    "b=a[3:6].copy()\n",
    "b[:]=0\n",
    "print(a)\n",
    "print(b)"
   ]
  },
  {
   "cell_type": "markdown",
   "id": "ee6b83b7-d280-49f1-b821-ad506aa797f1",
   "metadata": {},
   "source": [
    "# conditional selection"
   ]
  },
  {
   "cell_type": "code",
   "execution_count": 50,
   "id": "9a3ef016-d7bc-428b-a473-ed68db6c29f8",
   "metadata": {},
   "outputs": [
    {
     "data": {
      "text/plain": [
       "array([ 1,  2,  3,  4,  5,  6,  7,  8,  9, 10, 11, 12, 13, 14, 15])"
      ]
     },
     "execution_count": 50,
     "metadata": {},
     "output_type": "execute_result"
    }
   ],
   "source": [
    "import numpy as np\n",
    "a=np.arange(1,16)\n",
    "a"
   ]
  },
  {
   "cell_type": "code",
   "execution_count": 51,
   "id": "d31a41e9-3d88-4c48-b24a-d16b97598865",
   "metadata": {},
   "outputs": [
    {
     "data": {
      "text/plain": [
       "array([False, False, False, False, False, False, False, False, False,\n",
       "       False,  True,  True,  True,  True,  True])"
      ]
     },
     "execution_count": 51,
     "metadata": {},
     "output_type": "execute_result"
    }
   ],
   "source": [
    "a>10"
   ]
  },
  {
   "cell_type": "code",
   "execution_count": 52,
   "id": "f8492ff0-3f31-4454-8067-647bff8b4dab",
   "metadata": {},
   "outputs": [
    {
     "data": {
      "text/plain": [
       "array([ True,  True,  True,  True,  True,  True,  True,  True,  True,\n",
       "       False, False, False, False, False, False])"
      ]
     },
     "execution_count": 52,
     "metadata": {},
     "output_type": "execute_result"
    }
   ],
   "source": [
    "a<10"
   ]
  },
  {
   "cell_type": "code",
   "execution_count": 53,
   "id": "51f9426d-3873-41f2-a509-e488300e2761",
   "metadata": {},
   "outputs": [
    {
     "data": {
      "text/plain": [
       "array([11, 12, 13, 14, 15])"
      ]
     },
     "execution_count": 53,
     "metadata": {},
     "output_type": "execute_result"
    }
   ],
   "source": [
    "b=a>10\n",
    "a[b]"
   ]
  },
  {
   "cell_type": "code",
   "execution_count": 54,
   "id": "080f00dd-592c-4dbf-b06e-1122eba5359c",
   "metadata": {},
   "outputs": [
    {
     "data": {
      "text/plain": [
       "array([ 2,  4,  6,  8, 10, 12, 14])"
      ]
     },
     "execution_count": 54,
     "metadata": {},
     "output_type": "execute_result"
    }
   ],
   "source": [
    "a[a%2==0]"
   ]
  },
  {
   "cell_type": "markdown",
   "id": "0326a6c3-b721-49b4-995f-4367103d5928",
   "metadata": {},
   "source": [
    "# operations in array"
   ]
  },
  {
   "cell_type": "code",
   "execution_count": 58,
   "id": "db4a6c3d-2e3d-4181-beac-465ba9b0ebd4",
   "metadata": {},
   "outputs": [
    {
     "data": {
      "text/plain": [
       "array([2, 4, 6, 8])"
      ]
     },
     "execution_count": 58,
     "metadata": {},
     "output_type": "execute_result"
    }
   ],
   "source": [
    "import numpy as np\n",
    "a=np.array([10,20,95,54,78,55,89,65,55])\n",
    "a=np.arange(1,5)\n",
    "a*2"
   ]
  },
  {
   "cell_type": "code",
   "execution_count": 59,
   "id": "09caacb1-9b1a-49b1-8fe0-049d9693749b",
   "metadata": {},
   "outputs": [
    {
     "data": {
      "text/plain": [
       "array([3, 4, 5, 6])"
      ]
     },
     "execution_count": 59,
     "metadata": {},
     "output_type": "execute_result"
    }
   ],
   "source": [
    "a+2"
   ]
  },
  {
   "cell_type": "code",
   "execution_count": 60,
   "id": "f480c054-f0c1-414d-9989-77f6bcbee5c8",
   "metadata": {},
   "outputs": [
    {
     "data": {
      "text/plain": [
       "array([ 1,  4,  9, 16])"
      ]
     },
     "execution_count": 60,
     "metadata": {},
     "output_type": "execute_result"
    }
   ],
   "source": [
    "a**2"
   ]
  },
  {
   "cell_type": "code",
   "execution_count": 61,
   "id": "5310ae2e-138b-48d2-b334-9b385fcd2282",
   "metadata": {},
   "outputs": [
    {
     "data": {
      "text/plain": [
       "array([[1, 2],\n",
       "       [3, 4]])"
      ]
     },
     "execution_count": 61,
     "metadata": {},
     "output_type": "execute_result"
    }
   ],
   "source": [
    "a=np.array([1,2,3,4]).reshape(2,2)\n",
    "a"
   ]
  },
  {
   "cell_type": "code",
   "execution_count": 62,
   "id": "59431e77-2db7-4ef6-9367-b3bfcf4e2652",
   "metadata": {},
   "outputs": [
    {
     "data": {
      "text/plain": [
       "array([[5, 6],\n",
       "       [7, 8]])"
      ]
     },
     "execution_count": 62,
     "metadata": {},
     "output_type": "execute_result"
    }
   ],
   "source": [
    "b=np.array([5,6,7,8]).reshape(2,2)\n",
    "b"
   ]
  },
  {
   "cell_type": "code",
   "execution_count": 63,
   "id": "8a40a6f7-618c-40c3-95ef-9a3d704c0b1e",
   "metadata": {},
   "outputs": [
    {
     "data": {
      "text/plain": [
       "array([[ 6,  8],\n",
       "       [10, 12]])"
      ]
     },
     "execution_count": 63,
     "metadata": {},
     "output_type": "execute_result"
    }
   ],
   "source": [
    "a+b"
   ]
  },
  {
   "cell_type": "code",
   "execution_count": 64,
   "id": "7b0d7549-23c6-4684-8f41-d851ecc71e76",
   "metadata": {},
   "outputs": [
    {
     "data": {
      "text/plain": [
       "array([[-4, -4],\n",
       "       [-4, -4]])"
      ]
     },
     "execution_count": 64,
     "metadata": {},
     "output_type": "execute_result"
    }
   ],
   "source": [
    "a-b"
   ]
  },
  {
   "cell_type": "code",
   "execution_count": 66,
   "id": "33b87757-822f-4445-9bb6-c6f704d3063b",
   "metadata": {},
   "outputs": [
    {
     "data": {
      "text/plain": [
       "array([[19, 22],\n",
       "       [43, 50]])"
      ]
     },
     "execution_count": 66,
     "metadata": {},
     "output_type": "execute_result"
    }
   ],
   "source": [
    "a.dot(b) #matrix multiplication"
   ]
  },
  {
   "cell_type": "markdown",
   "id": "3d032262-5fb7-46d4-8b94-a454279f44f5",
   "metadata": {},
   "source": [
    "# some impportant function in numpy"
   ]
  },
  {
   "cell_type": "code",
   "execution_count": 67,
   "id": "813d91a2-0742-46c8-aafe-2838b58e8191",
   "metadata": {},
   "outputs": [
    {
     "data": {
      "text/plain": [
       "10"
      ]
     },
     "execution_count": 67,
     "metadata": {},
     "output_type": "execute_result"
    }
   ],
   "source": [
    "import numpy as np\n",
    "a=np.array([10,20,30,40])\n",
    "np.min(a)"
   ]
  },
  {
   "cell_type": "code",
   "execution_count": 68,
   "id": "d17ee521-b0a0-4a48-a997-0ec8a3a9e4ff",
   "metadata": {},
   "outputs": [
    {
     "data": {
      "text/plain": [
       "40"
      ]
     },
     "execution_count": 68,
     "metadata": {},
     "output_type": "execute_result"
    }
   ],
   "source": [
    "np.max(a)"
   ]
  },
  {
   "cell_type": "code",
   "execution_count": 69,
   "id": "a9d1cf23-58ad-4aea-9876-be44fbd9f57c",
   "metadata": {},
   "outputs": [
    {
     "data": {
      "text/plain": [
       "0"
      ]
     },
     "execution_count": 69,
     "metadata": {},
     "output_type": "execute_result"
    }
   ],
   "source": [
    "np.argmin(a) # index of min"
   ]
  },
  {
   "cell_type": "code",
   "execution_count": 71,
   "id": "3e9866aa-5308-494a-9303-c1b075f7fc91",
   "metadata": {},
   "outputs": [
    {
     "data": {
      "text/plain": [
       "3"
      ]
     },
     "execution_count": 71,
     "metadata": {},
     "output_type": "execute_result"
    }
   ],
   "source": [
    "np.argmax(a)# index of max"
   ]
  },
  {
   "cell_type": "code",
   "execution_count": 72,
   "id": "7e656df7-17bd-406a-bbcc-049ad2e2ef88",
   "metadata": {},
   "outputs": [
    {
     "data": {
      "text/plain": [
       "array([3.16227766, 4.47213595, 5.47722558, 6.32455532])"
      ]
     },
     "execution_count": 72,
     "metadata": {},
     "output_type": "execute_result"
    }
   ],
   "source": [
    "np.sqrt(a) # squareroot"
   ]
  },
  {
   "cell_type": "code",
   "execution_count": 73,
   "id": "8d8618a9-6b4f-43c9-9a0b-3060f6a6c3f6",
   "metadata": {},
   "outputs": [
    {
     "data": {
      "text/plain": [
       "array([-0.54402111,  0.91294525, -0.98803162,  0.74511316])"
      ]
     },
     "execution_count": 73,
     "metadata": {},
     "output_type": "execute_result"
    }
   ],
   "source": [
    "np.sin(a) # sin value"
   ]
  },
  {
   "cell_type": "markdown",
   "id": "2244b0f5-3609-4ff9-9f45-1d5e85315b73",
   "metadata": {},
   "source": [
    "# linspace ==> this function returns values between a guven rangwe and with a same  gap between consecutive no"
   ]
  },
  {
   "cell_type": "code",
   "execution_count": 75,
   "id": "5e6986cb-01ba-47fd-86ac-896a6cf7bf84",
   "metadata": {},
   "outputs": [
    {
     "data": {
      "text/plain": [
       "array([1.  , 1.25, 1.5 , 1.75, 2.  ])"
      ]
     },
     "execution_count": 75,
     "metadata": {},
     "output_type": "execute_result"
    }
   ],
   "source": [
    "import numpy as np\n",
    "a=np.linspace(1,2,5)\n",
    "a"
   ]
  },
  {
   "cell_type": "markdown",
   "id": "1ac07cd4-347e-4983-8980-ade41d2dd149",
   "metadata": {},
   "source": [
    "# np.unique(arr, return_index=True,return_counts=True)\n"
   ]
  },
  {
   "cell_type": "code",
   "execution_count": 81,
   "id": "44fc19fb-8c81-48fa-ba89-cdd4954d8fb0",
   "metadata": {},
   "outputs": [
    {
     "data": {
      "text/plain": [
       "(array([10, 20, 30, 40, 50]),\n",
       " array([5, 0, 1, 2, 7], dtype=int64),\n",
       " array([1, 2, 2, 2, 1], dtype=int64))"
      ]
     },
     "execution_count": 81,
     "metadata": {},
     "output_type": "execute_result"
    }
   ],
   "source": [
    "a=np.array([20,30,40,20,30,10,40,50])\n",
    "np.unique(a,return_index=True,return_counts=True)"
   ]
  },
  {
   "cell_type": "markdown",
   "id": "48a83f69-eabe-4d3e-beff-1ec9aedd66e8",
   "metadata": {},
   "source": [
    "# horizontal and vertical stacking"
   ]
  },
  {
   "cell_type": "code",
   "execution_count": 82,
   "id": "a0a5bbfa-9b44-4675-ad54-aad58776b063",
   "metadata": {},
   "outputs": [
    {
     "data": {
      "text/plain": [
       "array([1, 2, 3, 4])"
      ]
     },
     "execution_count": 82,
     "metadata": {},
     "output_type": "execute_result"
    }
   ],
   "source": [
    "a=np.array([1,2,3,4])\n",
    "b=np.array([5,6,7,8])\n",
    "a"
   ]
  },
  {
   "cell_type": "code",
   "execution_count": 83,
   "id": "4a11323f-6171-4fc4-a027-71953debcfae",
   "metadata": {},
   "outputs": [
    {
     "data": {
      "text/plain": [
       "array([5, 6, 7, 8])"
      ]
     },
     "execution_count": 83,
     "metadata": {},
     "output_type": "execute_result"
    }
   ],
   "source": [
    "b"
   ]
  },
  {
   "cell_type": "code",
   "execution_count": 86,
   "id": "dfaedf0e-4943-4269-9749-597da2159059",
   "metadata": {},
   "outputs": [
    {
     "data": {
      "text/plain": [
       "array([1, 2, 3, 4, 5, 6, 7, 8])"
      ]
     },
     "execution_count": 86,
     "metadata": {},
     "output_type": "execute_result"
    }
   ],
   "source": [
    "np.hstack((a,b)) # add elements of matrix horizontal"
   ]
  },
  {
   "cell_type": "code",
   "execution_count": 87,
   "id": "8f739a47-9808-4401-a001-77931d5f5f3f",
   "metadata": {},
   "outputs": [
    {
     "data": {
      "text/plain": [
       "array([[1, 2, 3, 4],\n",
       "       [5, 6, 7, 8]])"
      ]
     },
     "execution_count": 87,
     "metadata": {},
     "output_type": "execute_result"
    }
   ],
   "source": [
    "np.vstack((a,b))# add elements of matrix vertical"
   ]
  },
  {
   "cell_type": "code",
   "execution_count": null,
   "id": "5746b392-eee0-41e1-aa52-1c4acd4551e3",
   "metadata": {},
   "outputs": [],
   "source": [
    " "
   ]
  }
 ],
 "metadata": {
  "kernelspec": {
   "display_name": "Python 3 (ipykernel)",
   "language": "python",
   "name": "python3"
  },
  "language_info": {
   "codemirror_mode": {
    "name": "ipython",
    "version": 3
   },
   "file_extension": ".py",
   "mimetype": "text/x-python",
   "name": "python",
   "nbconvert_exporter": "python",
   "pygments_lexer": "ipython3",
   "version": "3.12.0"
  }
 },
 "nbformat": 4,
 "nbformat_minor": 5
}
